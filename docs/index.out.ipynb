{
 "cells": [
  {
   "cell_type": "markdown",
   "metadata": {},
   "source": [
    "# Final Project Proposal - Lab 7\n",
    "\n",
    "Bella Conrad (Colorado State University)  \n",
    "Zachary Cramton (Colorado State University)  \n",
    "Rachel Delorie (Colorado State University)\n",
    "\n",
    "# Urbanization, Density and Access to Public Parks in the United States\n",
    "\n",
    "## Abstract\n",
    "\n",
    "### Introduction"
   ],
   "id": "bbb3f0e5-6797-4a62-a616-459aef3465f3"
  },
  {
   "cell_type": "raw",
   "metadata": {
    "raw_mimetype": "text/html"
   },
   "source": [
    "<p>"
   ],
   "id": "ae343797-5b3f-4a04-a1b7-16a75af2dc45"
  },
  {
   "cell_type": "markdown",
   "metadata": {},
   "source": [
    "Since 2008, the majority of the world’s population has lived in urban areas, a result of urbanization in developing countries ([Beall et al., 2010](#ref-beall2010urbanization); [Kohlhase, 2013](#ref-kohlhase2013new)). The United States developed earlier than many nations, with more than 50 percent of the population living in urban areas.\n",
    "\n",
    "> **Definition of Urban Areas in Census History**\n",
    ">\n",
    "> Prior to the 2020 Census urban areas were defined as any area with greater than 2500 people. Following the 2010 census urban clusters described areas with populations greater than 2,500 and less than 50,000; urbanized areas described areas with a population greater than 50,000. For the 2020 Census the threshold was changed to 5000 people ([Ratcliffe, 2022](#ref-ratcliffe_redefining_2022))."
   ],
   "id": "164d9f1c-bfde-47db-9416-c54bae8d5f5a"
  },
  {
   "cell_type": "raw",
   "metadata": {
    "raw_mimetype": "text/html"
   },
   "source": [
    "<p>"
   ],
   "id": "3cc29d84-fcba-4370-94bb-99ba7ad509c9"
  },
  {
   "cell_type": "markdown",
   "metadata": {},
   "source": [
    "by the 14th Census in 1920. In the century since the 1920 census the percentage of individuals living in urban areas has increased to 80.7% ([Slack & Jensen, 2020](#ref-slack2020changing)). As more people moved to urban areas, those areas expanded forming urbanized areas and large cities."
   ],
   "id": "b8ab0f55-47a2-4018-8e12-d55a7b1a120d"
  },
  {
   "cell_type": "raw",
   "metadata": {
    "raw_mimetype": "text/html"
   },
   "source": [
    "<p>"
   ],
   "id": "e00a464d-27ed-42ad-92d1-4c7d1ffcc924"
  },
  {
   "cell_type": "markdown",
   "metadata": {},
   "source": [
    "Urban planning has existed for centuries out of necessity, historically dominated by efficiency and utilitarianism, optimizing the world we live in for profitability, corporate productivity, and automobile-based mobility. This optimization came with sacrifices, which now impact an increasingly large majority of the population. In recent years, the discipline has begun to prioritize human factors over utilitarian efficiency. Thousands of years of living in rural settings makes urban living hard for most people’s biology. Connection to nature and time outdoors even in small amounts has been shown to be a vital part maintaining physical and mental health \\[DOTHIS:: INSERT SOURCE HERE\\]. In an effort to make urban spaces more livable, planners are turning to parks and natural areas to connect people to nature."
   ],
   "id": "05a850dd-9133-4cb1-8d17-85ed7bcf3894"
  },
  {
   "cell_type": "raw",
   "metadata": {
    "raw_mimetype": "text/html"
   },
   "source": [
    "<p>"
   ],
   "id": "3b64999e-28b5-45b5-b8c9-19d951331bd1"
  },
  {
   "cell_type": "markdown",
   "metadata": {},
   "source": [
    "Equity issues aside, overturning and correcting more than a century of bad planning is a daunting task. Many cities filled in and built up over the course of the 20th century as land became a premium commodity \\[DOTHIS:: FIND A SOURCE???\\]. Does this density present significant challenges for today’s planning professionals? This research seeks to investigate the relationship between urban demographics like density and park access. In exploring this relationship, we hypothesize that there is an intermediate/sublinear relationship between urban population density and public open space availability.\n",
    "\n",
    "### Data Overview"
   ],
   "id": "632ceb1f-0076-4b58-9255-07f5b4a67ba3"
  },
  {
   "cell_type": "raw",
   "metadata": {
    "raw_mimetype": "text/html"
   },
   "source": [
    "<p>"
   ],
   "id": "1428f34c-971a-4c92-972b-adcff0e2d8de"
  },
  {
   "cell_type": "markdown",
   "metadata": {},
   "source": [
    "This report uses data from the UN-Habitat Urban Indicators Database and the ParkServe® Database maintained by the Trust for Public Land. The UN data relates to the UN-SDG 11.7.1 pertaining to access to open spaces and green areas."
   ],
   "id": "09e832c5-4b68-4355-bb88-f3e8e8b3fd2f"
  },
  {
   "cell_type": "raw",
   "metadata": {
    "raw_mimetype": "text/html"
   },
   "source": [
    "<p>"
   ],
   "id": "15f4997d-4f30-48ca-89f9-3ae5426d213f"
  },
  {
   "cell_type": "markdown",
   "metadata": {},
   "source": [
    "The January 2025 version of the UN Open Spaces and Green Areas data includes the average share of urban areas allocated to streets and open public spaces as well as the share of the urban population with convenient access to an open public space.\n",
    "\n",
    "> **UN Definition**\n",
    ">\n",
    "> In this case, the UN defines “convenient access to an open public space” as the “urban population withing 400 meters walking distance along the street network to an open public space” ([May et al., 2000](#ref-may2000habitat))."
   ],
   "id": "8b08158f-5490-42c4-bf16-83e90c9f7dac"
  },
  {
   "cell_type": "raw",
   "metadata": {
    "raw_mimetype": "text/html"
   },
   "source": [
    "<p>"
   ],
   "id": "fa35b216-0d8f-4c00-a852-0dcbf80ef10b"
  },
  {
   "cell_type": "markdown",
   "metadata": {},
   "source": [
    "These data collected by the UN were collected in 2020 and provided as a .xls format spreadsheet. These data were converted to .csv format with Microsoft Excel. The ParkServe® data selected for use is the 2020 data set to match the year the UN data was recorded. Specifically, this report uses elements of the City Park Facts: Acreage & Park System Highlights. The ParkServe® data is much less synthesized and was available as a .xml file. The file was structured for viewing as a spreadsheet rather than for further analysis and included multiple worksheets withing the workbook. In converting the file to a .csv file, the data spread across multiple worksheets was collated in a single worksheet and converted to a summarized dataset .csv file."
   ],
   "id": "76e21289-b680-4ba1-98a8-09863669efbf"
  },
  {
   "cell_type": "raw",
   "metadata": {
    "raw_mimetype": "text/html"
   },
   "source": [
    "<p>"
   ],
   "id": "63b6e3d6-95f0-44c5-87d0-6bebac7268ea"
  },
  {
   "cell_type": "markdown",
   "metadata": {},
   "source": [
    "These data are lacking a shared numerical position data type but share a city name column formatted as “city_name, two_letter_state_abrreviation”. There is not perfect overlap between cities with data in each database however, there are XX (DOTHIS:: Enter the total cities with overlapping data post-data-join) cities shared between the datasets. Cities present in only one data set will be culled when the data is joined.\n",
    "\n",
    "### Methods\n",
    "\n",
    "1.  Clean the data. The raw data were downloaded as Excel spreadsheets, some reformatting in Excel was required to effectively exporting as a .csv file and importing the new summarized file to RStudio. Remaining data cleaning will occur in R as needed including any header changes or additional columns needed.\n",
    "2.  Conduct Exploratory Data Analysis (EDA).\n",
    "3.  Join datasets by “city name” to have a complete working dataset. These data will be combined into a single data frame with an inner join because there is a large number of cities listed in one data set but not the other. The new dataset will include only cities found in both datasets, with columns from both.\n",
    "\n",
    "> **Limiting Scope**\n",
    ">\n",
    "> The cities found in only one dataset will be cut from the data to accommodate the limited scope of the project. With a bigger scope it is possible that additional data could be used to understand these patterns with more depth.\n",
    "\n",
    "1.  Prep data and split it into training and testing datasets. Perform a 10-fold cross-validation on training data.\n",
    "2.  Create a recipe.\n",
    "3.  Set up several models in regression mode.\n",
    "4.  Create a workflow set including the previously written models and the recipe.\n",
    "5.  Map function over workflow using workflow map.\n",
    "6.  Using the highest performing model, fit the data and augment.\n",
    "7.  Plot and graph data to visually display test results.\n",
    "8.  Explore using the model to predict values for cities included in only one document (if time allows).\n",
    "\n",
    "### Exploratory Data Analysis (EDA)"
   ],
   "id": "f09c9aeb-6c88-4ba6-8514-f1d8e4a78721"
  },
  {
   "cell_type": "code",
   "execution_count": null,
   "metadata": {},
   "outputs": [
    {
     "output_type": "stream",
     "name": "stderr",
     "text": [
      "\n",
      "Attaching package: 'dplyr'"
     ]
    },
    {
     "output_type": "stream",
     "name": "stderr",
     "text": [
      "The following objects are masked from 'package:stats':\n",
      "\n",
      "    filter, lag"
     ]
    },
    {
     "output_type": "stream",
     "name": "stderr",
     "text": [
      "The following objects are masked from 'package:base':\n",
      "\n",
      "    intersect, setdiff, setequal, union"
     ]
    },
    {
     "output_type": "stream",
     "name": "stderr",
     "text": [
      "── Attaching core tidyverse packages ──────────────────────── tidyverse 2.0.0 ──\n",
      "✔ forcats   1.0.0     ✔ readr     2.1.5\n",
      "✔ ggplot2   3.5.1     ✔ stringr   1.5.1\n",
      "✔ lubridate 1.9.4     ✔ tibble    3.2.1\n",
      "✔ purrr     1.0.2     ✔ tidyr     1.3.1"
     ]
    },
    {
     "output_type": "stream",
     "name": "stderr",
     "text": [
      "── Conflicts ────────────────────────────────────────── tidyverse_conflicts() ──\n",
      "✖ dplyr::filter() masks stats::filter()\n",
      "✖ dplyr::lag()    masks stats::lag()\n",
      "ℹ Use the conflicted package (<http://conflicted.r-lib.org/>) to force all conflicts to become errors"
     ]
    },
    {
     "output_type": "stream",
     "name": "stderr",
     "text": [
      "Warning: package 'here' was built under R version 4.4.3"
     ]
    },
    {
     "output_type": "stream",
     "name": "stderr",
     "text": [
      "here() starts at C:/Users/Zacha/github/CSU/ESS 330/ess_330_project_proposal"
     ]
    },
    {
     "output_type": "stream",
     "name": "stderr",
     "text": [
      "New names:\n",
      "Rows: 104 Columns: 18\n",
      "── Column specification\n",
      "──────────────────────────────────────────────────────── Delimiter: \",\" chr\n",
      "(18): Population Density, ...2, ...3, ...4, ...5, ...6, ...7, ...8, ...9...\n",
      "ℹ Use `spec()` to retrieve the full column specification for this data. ℹ\n",
      "Specify the column types or set `show_col_types = FALSE` to quiet this message.\n",
      "• `` -> `...2`\n",
      "• `` -> `...3`\n",
      "• `` -> `...4`\n",
      "• `` -> `...5`\n",
      "• `` -> `...6`\n",
      "• `` -> `...7`\n",
      "• `` -> `...8`\n",
      "• `` -> `...9`\n",
      "• `` -> `...10`\n",
      "• `` -> `...11`\n",
      "• `` -> `...12`\n",
      "• `` -> `...13`\n",
      "• `` -> `...14`\n",
      "• `` -> `...15`\n",
      "• `` -> `...16`\n",
      "• `` -> `...17`\n",
      "• `` -> `...18`"
     ]
    },
    {
     "output_type": "stream",
     "name": "stderr",
     "text": [
      "Rows: 59 Columns: 3\n",
      "── Column specification ────────────────────────────────────────────────────────\n",
      "Delimiter: \",\"\n",
      "chr (1): City Name\n",
      "dbl (2): Average share of the built-up area of cities that is open space for...\n",
      "\n",
      "ℹ Use `spec()` to retrieve the full column specification for this data.\n",
      "ℹ Specify the column types or set `show_col_types = FALSE` to quiet this message."
     ]
    }
   ],
   "source": [
    "## EDA work is ongoing.\n",
    "\n",
    "library(dplyr)"
   ],
   "id": "75d15e17-8af8-4e81-a7d4-1d5fd599b4b2"
  },
  {
   "cell_type": "markdown",
   "metadata": {},
   "source": [
    "### References\n",
    "\n",
    "Beall, J., Guha-Khasnobis, B., & Kanbur, R. (2010). *Urbanization and development: Multidisciplinary perspectives*. Oxford University Press.\n",
    "\n",
    "Kohlhase, J. E. (2013). The new urban world 2050: Perspectives, prospects and problems. *Regional Science Policy & Practice*, *5*(2), 153–166.\n",
    "\n",
    "May, R., Rex, K., Bellini, L., Sadullah, S., Nishi, E., James, F., & Mathangani, A. (2000). UN habitat indicators database: Evaluation as a source of the status of urban development problems and programs. *Cities*, *17*(3), 237–244.\n",
    "\n",
    "Ratcliffe, M. (2022). Redefining Urban Areas following the 2020 Census. In *Census.gov*. <https://www.census.gov/newsroom/blogs/random-samplings/2022/12/redefining-urban-areas-following-2020-census.html>\n",
    "\n",
    "Slack, T., & Jensen, L. (2020). The changing demography of rural and small-town america. *Population Research and Policy Review*, *39*(5), 775–783."
   ],
   "id": "e156af6b-abea-40cd-9f0d-0203e174e6ad"
  }
 ],
 "nbformat": 4,
 "nbformat_minor": 5,
 "metadata": {}
}
