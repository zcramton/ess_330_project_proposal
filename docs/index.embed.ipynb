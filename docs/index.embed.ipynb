{
 "cells": [
  {
   "cell_type": "markdown",
   "metadata": {},
   "source": [
    "# Final Project Proposal - Lab 7\n",
    "\n",
    "Bella Conrad (Colorado State University)  \n",
    "Zachary Cramton (Colorado State University)  \n",
    "Rachel Delorie (Colorado State University)\n",
    "\n",
    "# Urbanization, Density and Access to Public Parks in the United States\n",
    "\n",
    "## Abstract\n",
    "\n",
    "### Introduction"
   ],
   "id": "5d906a48-7353-41ce-b968-fe67f62e325b"
  },
  {
   "cell_type": "raw",
   "metadata": {
    "raw_mimetype": "text/html"
   },
   "source": [
    "<p>"
   ],
   "id": "779b2402-6916-44b4-ab56-4d97f5bde7ed"
  },
  {
   "cell_type": "markdown",
   "metadata": {},
   "source": [
    "Since 2008, the majority of the world’s population has lived in urban areas, a result of urbanization in developing countries \\[@kohlhase2013new; @beall2010urbanization\\]. The United States developed earlier than many nations, with more than 50 percent of the population living in urban areas.\n",
    "\n",
    "> **Definition of Urban Areas in Census History**\n",
    ">\n",
    "> Prior to the 2020 Census urban areas were defined as any area with greater than 2500 people. Following the 2010 census urban clusters described areas with populations greater than 2,500 and less than 50,000; urbanized areas described areas with a population greater than 50,000. For the 2020 Census the threshold was changed to 5000 people \\[@ratcliffe_redefining_2022\\]."
   ],
   "id": "22921d76-8e4d-498c-9738-b2e3d6b27165"
  },
  {
   "cell_type": "raw",
   "metadata": {
    "raw_mimetype": "text/html"
   },
   "source": [
    "<p>"
   ],
   "id": "82cff7fb-0680-4f31-a3fe-1138d28dc9e8"
  },
  {
   "cell_type": "markdown",
   "metadata": {},
   "source": [
    "by the 14th Census in 1920. In the century since the 1920 census the percentage of individuals living in urban areas has increased to 80.7% \\[@slack2020changing\\]. As more people moved to urban areas, those areas expanded forming urbanized areas and large cities."
   ],
   "id": "af3e6245-2913-4004-86b9-baf3e64e50e8"
  },
  {
   "cell_type": "raw",
   "metadata": {
    "raw_mimetype": "text/html"
   },
   "source": [
    "<p>"
   ],
   "id": "36731f65-57e5-46da-9fa7-246fe35c4238"
  },
  {
   "cell_type": "markdown",
   "metadata": {},
   "source": [
    "Urban planning has existed for centuries out of necessity, historically dominated by efficiency and utilitarianism, optimizing the world we live in for profitability, corporate productivity, and automobile-based mobility. This optimization came with sacrifices, which now impact an increasingly large majority of the population. In recent years, the discipline has begun to prioritize human factors over utilitarian efficiency. Thousands of years of living in rural settings makes urban living hard for most people’s biology. Connection to nature and time outdoors even in small amounts has been shown to be a vital part maintaining physical and mental health \\[DOTHIS:: INSERT SOURCE HERE\\]. In an effort to make urban spaces more livable, planners are turning to parks and natural areas to connect people to nature."
   ],
   "id": "93f976c1-7214-4f98-a749-915c7ae46c1a"
  },
  {
   "cell_type": "raw",
   "metadata": {
    "raw_mimetype": "text/html"
   },
   "source": [
    "<p>"
   ],
   "id": "d2fa07ba-f252-4cf6-bc86-8ae62644768d"
  },
  {
   "cell_type": "markdown",
   "metadata": {},
   "source": [
    "Equity issues aside, overturning and correcting more than a century of bad planning is a daunting task. Many cities filled in and built up over the course of the 20th century as land became a premium commodity \\[DOTHIS:: FIND A SOURCE???\\]. Does this density present significant challenges for today’s planning professionals? This research seeks to investigate the relationship between urban demographics like density and park access. In exploring this relationship, we hypothesize that there is an intermediate/sublinear relationship between urban population density and public open space availability.\n",
    "\n",
    "### Data Overview"
   ],
   "id": "5cef5600-b24d-4772-a8d3-4f389dbace21"
  },
  {
   "cell_type": "raw",
   "metadata": {
    "raw_mimetype": "text/html"
   },
   "source": [
    "<p>"
   ],
   "id": "eac34c8f-b670-474c-98af-b25d58e6046b"
  },
  {
   "cell_type": "markdown",
   "metadata": {},
   "source": [
    "This report uses data from the UN-Habitat Urban Indicators Database and the ParkServe® Database maintained by the Trust for Public Land. The UN data relates to the UN-SDG 11.7.1 pertaining to access to open spaces and green areas."
   ],
   "id": "5d44dec5-e196-4fe2-9c23-1104d2961556"
  },
  {
   "cell_type": "raw",
   "metadata": {
    "raw_mimetype": "text/html"
   },
   "source": [
    "<p>"
   ],
   "id": "e0608029-a5cd-428e-a1f5-28e60f357b27"
  },
  {
   "cell_type": "markdown",
   "metadata": {},
   "source": [
    "The January 2025 version of the UN Open Spaces and Green Areas data includes the average share of urban areas allocated to streets and open public spaces as well as the share of the urban population with convenient access to an open public space.\n",
    "\n",
    "> **UN Definition**\n",
    ">\n",
    "> In this case, the UN defines “convenient access to an open public space” as the “urban population withing 400 meters walking distance along the street network to an open public space” \\[@may2000habitat\\]."
   ],
   "id": "2bf75a47-c367-41a6-8ca2-ed516deaf29d"
  },
  {
   "cell_type": "raw",
   "metadata": {
    "raw_mimetype": "text/html"
   },
   "source": [
    "<p>"
   ],
   "id": "5e2001ee-3029-4216-bbff-e831284ad83c"
  },
  {
   "cell_type": "markdown",
   "metadata": {},
   "source": [
    "These data collected by the UN were collected in 2020 and provided as a .xls format spreadsheet. These data were converted to .csv format with Microsoft Excel. The ParkServe® data selected for use is the 2020 data set to match the year the UN data was recorded. Specifically, this report uses elements of the City Park Facts: Acreage & Park System Highlights. The ParkServe® data is much less synthesized and was available as a .xml file. The file was structured for viewing as a spreadsheet rather than for further analysis and included multiple worksheets withing the workbook. In converting the file to a .csv file, the data spread across multiple worksheets was collated in a single worksheet and converted to a summarized dataset .csv file."
   ],
   "id": "853b98fd-0813-4d54-9fce-7a5bad536641"
  },
  {
   "cell_type": "raw",
   "metadata": {
    "raw_mimetype": "text/html"
   },
   "source": [
    "<p>"
   ],
   "id": "d9c1e052-5c01-400b-b688-8c875a41f395"
  },
  {
   "cell_type": "markdown",
   "metadata": {},
   "source": [
    "These data are lacking a shared numerical position data type but share a city name column formatted as “city_name, two_letter_state_abrreviation”. There is not perfect overlap between cities with data in each database however, there are XX (DOTHIS:: Enter the total cities with overlapping data post-data-join) cities shared between the datasets. Cities present in only one data set will be culled when the data is joined.\n",
    "\n",
    "### Methods\n",
    "\n",
    "1.  Clean the data. The raw data were downloaded as Excel spreadsheets, some reformatting in Excel was required to effectively exporting as a .csv file and importing the new summarized file to RStudio. Remaining data cleaning will occur in R as needed including any header changes or additional columns needed.\n",
    "2.  Conduct Exploratory Data Analysis (EDA).\n",
    "3.  Join datasets by “city name” to have a complete working dataset. These data will be combined into a single data frame with an inner join because there is a large number of cities listed in one data set but not the other. The new dataset will include only cities found in both datasets, with columns from both.\n",
    "\n",
    "> **Limiting Scope**\n",
    ">\n",
    "> The cities found in only one dataset will be cut from the data to accommodate the limited scope of the project. With a bigger scope it is possible that additional data could be used to understand these patterns with more depth.\n",
    "\n",
    "1.  Prep data and split it into training and testing datasets. Perform a 10-fold cross-validation on training data.\n",
    "2.  Create a recipe.\n",
    "3.  Set up several models in regression mode.\n",
    "4.  Create a workflow set including the previously written models and the recipe.\n",
    "5.  Map function over workflow using workflow map.\n",
    "6.  Using the highest performing model, fit the data and augment.\n",
    "7.  Plot and graph data to visually display test results.\n",
    "8.  Explore using the model to predict values for cities included in only one document (if time allows).\n",
    "\n",
    "### Exploratory Data Analysis (EDA)"
   ],
   "id": "135fdcfa-0d38-447c-8bdb-3b514644305c"
  },
  {
   "cell_type": "code",
   "execution_count": null,
   "metadata": {},
   "outputs": [
    {
     "output_type": "stream",
     "name": "stderr",
     "text": [
      "\n",
      "Attaching package: 'dplyr'"
     ]
    },
    {
     "output_type": "stream",
     "name": "stderr",
     "text": [
      "The following objects are masked from 'package:stats':\n",
      "\n",
      "    filter, lag"
     ]
    },
    {
     "output_type": "stream",
     "name": "stderr",
     "text": [
      "The following objects are masked from 'package:base':\n",
      "\n",
      "    intersect, setdiff, setequal, union"
     ]
    },
    {
     "output_type": "stream",
     "name": "stderr",
     "text": [
      "── Attaching core tidyverse packages ──────────────────────── tidyverse 2.0.0 ──\n",
      "✔ forcats   1.0.0     ✔ readr     2.1.5\n",
      "✔ ggplot2   3.5.1     ✔ stringr   1.5.1\n",
      "✔ lubridate 1.9.4     ✔ tibble    3.2.1\n",
      "✔ purrr     1.0.2     ✔ tidyr     1.3.1"
     ]
    },
    {
     "output_type": "stream",
     "name": "stderr",
     "text": [
      "── Conflicts ────────────────────────────────────────── tidyverse_conflicts() ──\n",
      "✖ dplyr::filter() masks stats::filter()\n",
      "✖ dplyr::lag()    masks stats::lag()\n",
      "ℹ Use the conflicted package (<http://conflicted.r-lib.org/>) to force all conflicts to become errors"
     ]
    },
    {
     "output_type": "stream",
     "name": "stderr",
     "text": [
      "Warning: package 'here' was built under R version 4.4.3"
     ]
    },
    {
     "output_type": "stream",
     "name": "stderr",
     "text": [
      "here() starts at C:/Users/Zacha/github/CSU/ESS 330/ess_330_project_proposal"
     ]
    },
    {
     "output_type": "stream",
     "name": "stderr",
     "text": [
      "New names:\n",
      "Rows: 104 Columns: 18\n",
      "── Column specification\n",
      "──────────────────────────────────────────────────────── Delimiter: \",\" chr\n",
      "(18): Population Density, ...2, ...3, ...4, ...5, ...6, ...7, ...8, ...9...\n",
      "ℹ Use `spec()` to retrieve the full column specification for this data. ℹ\n",
      "Specify the column types or set `show_col_types = FALSE` to quiet this message.\n",
      "• `` -> `...2`\n",
      "• `` -> `...3`\n",
      "• `` -> `...4`\n",
      "• `` -> `...5`\n",
      "• `` -> `...6`\n",
      "• `` -> `...7`\n",
      "• `` -> `...8`\n",
      "• `` -> `...9`\n",
      "• `` -> `...10`\n",
      "• `` -> `...11`\n",
      "• `` -> `...12`\n",
      "• `` -> `...13`\n",
      "• `` -> `...14`\n",
      "• `` -> `...15`\n",
      "• `` -> `...16`\n",
      "• `` -> `...17`\n",
      "• `` -> `...18`"
     ]
    },
    {
     "output_type": "stream",
     "name": "stderr",
     "text": [
      "Rows: 59 Columns: 3\n",
      "── Column specification ────────────────────────────────────────────────────────\n",
      "Delimiter: \",\"\n",
      "chr (1): City Name\n",
      "dbl (2): Average share of the built-up area of cities that is open space for...\n",
      "\n",
      "ℹ Use `spec()` to retrieve the full column specification for this data.\n",
      "ℹ Specify the column types or set `show_col_types = FALSE` to quiet this message."
     ]
    }
   ],
   "source": [
    "## EDA work is ongoing.\n",
    "\n",
    "library(dplyr)"
   ],
   "id": "751dba6b-39ff-4975-8d21-d7d095c69281"
  },
  {
   "cell_type": "markdown",
   "metadata": {},
   "source": [
    "### References"
   ],
   "id": "9c82f858-9159-4cd0-9a01-31f112665f45"
  }
 ],
 "nbformat": 4,
 "nbformat_minor": 5,
 "metadata": {}
}
